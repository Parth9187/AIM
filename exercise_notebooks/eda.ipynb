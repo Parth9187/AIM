{
 "cells": [
  {
   "cell_type": "markdown",
   "id": "dd72358c-66f7-41e4-b5f7-946973b87f07",
   "metadata": {
    "tags": []
   },
   "source": [
    "# WELCOME To Your First Practice Notebook!\n",
    "Hopefully, you have gone through the articles and courses made available to you and were at the session. Here is your chance to practice the skills you learnt this week.\n",
    "\n",
    "## A Recap of Exploratory Data Analysis (EDA)\n",
    "Exploratory Data Analysis is an *essential* part of building and mantaining machine learning models and is a key skill that appears everywhere. It invovles (as the name suggests) building a strong initial understanding of the data you are working with and is a thorough pr\n",
    "\n",
    "## The Task\n",
    "You are given a dataset **'wine_data.csv'** in the **data** directory along with a **'wine_description.txt'** file that gives you a general overview of what each attribute represents along with credits for the donors of this dataset.\n",
    "\n",
    "> The data has been artifically modified to include missing values and outliers to mimic what you might face when building real-world projects. To find the clean dataset, visit the UCI ML Archive and compare the data with what you have cleaned. \n",
    "\n",
    "**In this section, you will need to do the following:**\n",
    "- Collect and Load the Data\n",
    "- Build a Surface Level Understanding of the Data\n",
    "- Deal with Missing Values\n",
    "- Visualize Data and Relationships Between Attributes\n",
    "\n",
    "### Importing Libraries:"
   ]
  },
  {
   "cell_type": "code",
   "execution_count": null,
   "id": "9a353d95-6f6d-4981-9a0e-0d448cc77e9d",
   "metadata": {},
   "outputs": [],
   "source": [
    "#INSERT CODE"
   ]
  },
  {
   "cell_type": "markdown",
   "id": "66d8c9da-f91d-4747-b60f-8ab3bacead61",
   "metadata": {},
   "source": [
    "### Load the Dataset"
   ]
  },
  {
   "cell_type": "code",
   "execution_count": null,
   "id": "30e17a2c-712b-49bd-8846-dcd0154dbfdb",
   "metadata": {},
   "outputs": [],
   "source": [
    "#INSERT CODE"
   ]
  },
  {
   "cell_type": "markdown",
   "id": "b70673f3-31d5-4609-911f-1fd637d0a2b7",
   "metadata": {},
   "source": [
    "### Explore Data"
   ]
  },
  {
   "cell_type": "code",
   "execution_count": null,
   "id": "da942a4c-251d-4313-a2e2-139562561d14",
   "metadata": {},
   "outputs": [],
   "source": [
    "#INSERT CODE"
   ]
  },
  {
   "cell_type": "markdown",
   "id": "ec6a4228-0529-425f-b49c-9aa07130cf3c",
   "metadata": {},
   "source": [
    "### Find Missing Values"
   ]
  },
  {
   "cell_type": "code",
   "execution_count": 1,
   "id": "8f9c98df-3808-4a28-a118-a47d32a38136",
   "metadata": {},
   "outputs": [],
   "source": [
    "#INSERT CODE"
   ]
  },
  {
   "cell_type": "markdown",
   "id": "11533886-97ed-448c-ae98-e5738352a0c1",
   "metadata": {},
   "source": [
    "### Impute Missing Values"
   ]
  },
  {
   "cell_type": "code",
   "execution_count": null,
   "id": "1a7568d5-2dae-431f-9e05-160e309efc6e",
   "metadata": {},
   "outputs": [],
   "source": [
    "#INSERT CODE"
   ]
  },
  {
   "cell_type": "markdown",
   "id": "844d5a1b-c34b-4bff-90ab-b2d12ea339ff",
   "metadata": {},
   "source": [
    "### Data Visualisation"
   ]
  },
  {
   "cell_type": "code",
   "execution_count": null,
   "id": "5953dbd2-0660-4c09-bb46-7db76fdd772b",
   "metadata": {},
   "outputs": [],
   "source": [
    "#INSERT CODE"
   ]
  }
 ],
 "metadata": {
  "kernelspec": {
   "display_name": "Python 3 (ipykernel)",
   "language": "python",
   "name": "python3"
  },
  "language_info": {
   "codemirror_mode": {
    "name": "ipython",
    "version": 3
   },
   "file_extension": ".py",
   "mimetype": "text/x-python",
   "name": "python",
   "nbconvert_exporter": "python",
   "pygments_lexer": "ipython3",
   "version": "3.8.13"
  }
 },
 "nbformat": 4,
 "nbformat_minor": 5
}
