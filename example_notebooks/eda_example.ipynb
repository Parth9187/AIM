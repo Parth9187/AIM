{
 "cells": [
  {
   "cell_type": "markdown",
   "metadata": {},
   "source": [
    "# Jupyter Notebooks - Pt1: Data Handling\n",
    "\n",
    "Anything you don't understand is scary and for many people that's doubly true for code. Starting machine learning can be daunting but this Jupiter notebook will teach you the basics of the basics of machine learning. Firstly, why do we use jupyter notebooks:\n",
    "\n",
    "- Repeatable: the code can be easily run again and you can reuse the same steps in different situations\n",
    "- Understandable: If you analyze in the code, the code will tell you what to do. While it's not perfect, it's still better than looking at plain python\n",
    "\n",
    "The goal of this workbook is to show you how to do all the common actions you need for data handling when it commons to machine learning,as well as how to work with data in python.\n",
    "\n",
    "We'll be relying heavily on pandas, which provides lots of useful functions for data analysis."
   ]
  },
  {
   "cell_type": "markdown",
   "metadata": {},
   "source": [
    "## How does Jupyter notebook work?\n",
    "\n",
    "Jupyter Notebook (IMO) is an ideal environment for data analysis. Here's how it works.\n",
    "- You enter the code in the cell.\n",
    "- You run the cell.\n",
    "\n",
    "By breaking the code into cells, you can step through and examine the data during execution.\n",
    "\n",
    "Jupyter notebooks have two modes:\n",
    "- Command mode (let's create new cells, delete, run, etc.)\n",
    "- Edit mode (let's write in cells and edit them)\n",
    "\n",
    "Escape takes you into command mode (a blue bar to the left of the highlighted cell) and Enter takes you to edit mode (a green bar to the left of the highlighted cell).\n",
    "\n",
    "While there are buttons at the top, I highly recommend learning shortcuts. Besides these two, the most important ones are:\n",
    "\n",
    "**Command Mode:**\n",
    "- a: create a cell above\n",
    "- b: create a cell below\n",
    "- Cmd/Ctrl+Enter - Runs a cell\n",
    "- dd: deletes a cell (be careful, you can't undo this)\n",
    "- m: Set a cell to text mode (markdown), like this cell you're reading\n",
    "- y: Set a cell to code mode (the default)\n",
    "\n",
    "**Edit mode:**\n",
    "- shift+tab: show documentation for the function the cursor is inside. Hit tab multiple times to change where the documentation pop-up appears. (sometimes won't trigger in which case just google \"pandas documentation x\")\n"
   ]
  },
  {
   "cell_type": "markdown",
   "metadata": {},
   "source": [
    "**Importing Libraries** \n",
    "To start with our data anlaysis, we need to import some base libraries:\n",
    "- pandas - functions for data analysis\n",
    "- numpy - more functions for data analysis (in my experience, typically faster, but not quite as user friendly as pandas)\n",
    "- re - regular expressions. pandas already has this built in, in a lot of places so we won't often need this.\n",
    "\n",
    "Let's get started!"
   ]
  },
  {
   "cell_type": "code",
   "execution_count": null,
   "metadata": {
    "collapsed": true
   },
   "outputs": [],
   "source": [
    "#installing and importing pandas\n",
    "import pandas as pd\n",
    "import numpy as np\n",
    "import re"
   ]
  },
  {
   "cell_type": "markdown",
   "metadata": {},
   "source": [
    "**What are we going to do:** \n",
    "For the example here, we load the top 20 ranking file from STAT.\n",
    "\n",
    "This shows the top 20 ranking domains for a range of keywords, which is exactly the data we might want to analyze.\n",
    "\n",
    "The following function allows us to open a CSV file in a data frame. It's a fancy word for tables in pandas.\n",
    "\n",
    "The output of the function on the right is stored in the variable on the left."
   ]
  },
  {
   "cell_type": "code",
   "execution_count": 24,
   "metadata": {
    "collapsed": true
   },
   "outputs": [],
   "source": [
    "df = pd.read_csv(\"Example Car SERPs.csv\")"
   ]
  },
  {
   "cell_type": "markdown",
   "metadata": {},
   "source": [
    "## Exploring data\n",
    "\n",
    "First things first, how do we look the data we've just loaded?\n",
    "\n",
    "We need to be able to see our data, because that's often how we're going to validate that our code has done what we expected.\n",
    "\n",
    "Using the head function we can get our first look at the data in pandas. It looks like a table and how we'd expect. We can also see that pandas assigns each row a unique number in the first column. This is called the index and when we begin to filter our data, we'll see that shown in the index.\n",
    "\n",
    "**Syntax:** dateframe.head(amountofrowstobeseen)"
   ]
  },
  {
   "cell_type": "code",
   "execution_count": 26,
   "metadata": {
    "collapsed": false
   },
   "outputs": [
    {
     "data": {
      "text/html": [
       "<div>\n",
       "<style scoped>\n",
       "    .dataframe tbody tr th:only-of-type {\n",
       "        vertical-align: middle;\n",
       "    }\n",
       "\n",
       "    .dataframe tbody tr th {\n",
       "        vertical-align: top;\n",
       "    }\n",
       "\n",
       "    .dataframe thead th {\n",
       "        text-align: right;\n",
       "    }\n",
       "</style>\n",
       "<table border=\"1\" class=\"dataframe\">\n",
       "  <thead>\n",
       "    <tr style=\"text-align: right;\">\n",
       "      <th></th>\n",
       "      <th>Keyword</th>\n",
       "      <th>Market</th>\n",
       "      <th>Location</th>\n",
       "      <th>Device</th>\n",
       "      <th>Regional Monthly Search Volume</th>\n",
       "      <th>Rank</th>\n",
       "      <th>Result Types for Jan  1, 2017</th>\n",
       "      <th>Protocol for Jan  1, 2017</th>\n",
       "      <th>Ranking URL on Jan  1, 2017</th>\n",
       "      <th>Result Types for Sep  1, 2017</th>\n",
       "      <th>Protocol for Sep  1, 2017</th>\n",
       "      <th>Ranking URL on Sep  1, 2017</th>\n",
       "      <th>Tags</th>\n",
       "    </tr>\n",
       "  </thead>\n",
       "  <tbody>\n",
       "    <tr>\n",
       "      <th>0</th>\n",
       "      <td>0 apr car deals</td>\n",
       "      <td>GB-en</td>\n",
       "      <td>NaN</td>\n",
       "      <td>desktop</td>\n",
       "      <td>1900.0</td>\n",
       "      <td>1</td>\n",
       "      <td>NaN</td>\n",
       "      <td>NaN</td>\n",
       "      <td>NaN</td>\n",
       "      <td>answers / list</td>\n",
       "      <td>http</td>\n",
       "      <td>www.autoexpress.co.uk/best-cars/98556/the-best...</td>\n",
       "      <td>!permanent keywords / auto express / featured ...</td>\n",
       "    </tr>\n",
       "    <tr>\n",
       "      <th>1</th>\n",
       "      <td>0 apr car deals</td>\n",
       "      <td>GB-en</td>\n",
       "      <td>NaN</td>\n",
       "      <td>desktop</td>\n",
       "      <td>1900.0</td>\n",
       "      <td>2</td>\n",
       "      <td>NaN</td>\n",
       "      <td>NaN</td>\n",
       "      <td>NaN</td>\n",
       "      <td>organic</td>\n",
       "      <td>https</td>\n",
       "      <td>www.carwow.co.uk/best/cars-for-sale-with-0-per...</td>\n",
       "      <td>!permanent keywords / auto express / featured ...</td>\n",
       "    </tr>\n",
       "  </tbody>\n",
       "</table>\n",
       "</div>"
      ],
      "text/plain": [
       "           Keyword Market  Location   Device  Regional Monthly Search Volume  \\\n",
       "0  0 apr car deals  GB-en       NaN  desktop                          1900.0   \n",
       "1  0 apr car deals  GB-en       NaN  desktop                          1900.0   \n",
       "\n",
       "   Rank Result Types for Jan  1, 2017 Protocol for Jan  1, 2017  \\\n",
       "0     1                           NaN                       NaN   \n",
       "1     2                           NaN                       NaN   \n",
       "\n",
       "  Ranking URL on Jan  1, 2017 Result Types for Sep  1, 2017  \\\n",
       "0                         NaN                answers / list   \n",
       "1                         NaN                       organic   \n",
       "\n",
       "  Protocol for Sep  1, 2017  \\\n",
       "0                      http   \n",
       "1                     https   \n",
       "\n",
       "                         Ranking URL on Sep  1, 2017  \\\n",
       "0  www.autoexpress.co.uk/best-cars/98556/the-best...   \n",
       "1  www.carwow.co.uk/best/cars-for-sale-with-0-per...   \n",
       "\n",
       "                                                Tags  \n",
       "0  !permanent keywords / auto express / featured ...  \n",
       "1  !permanent keywords / auto express / featured ...  "
      ]
     },
     "execution_count": 26,
     "metadata": {},
     "output_type": "execute_result"
    }
   ],
   "source": [
    "df.head(2)"
   ]
  },
  {
   "cell_type": "markdown",
   "metadata": {},
   "source": [
    "We can also use the shape function to look at our datas columns and rows\n",
    "\n",
    "**Syntax:** datafram.shape"
   ]
  },
  {
   "cell_type": "code",
   "execution_count": 4,
   "metadata": {
    "collapsed": false
   },
   "outputs": [
    {
     "data": {
      "text/plain": [
       "(39600, 13)"
      ]
     },
     "execution_count": 4,
     "metadata": {},
     "output_type": "execute_result"
    }
   ],
   "source": [
    "df.shape"
   ]
  },
  {
   "cell_type": "markdown",
   "metadata": {},
   "source": [
    "Another common function is dtypes.\n",
    "**What does It do?:** Shows you the datatype for each column. (i.e. this column is a string (i.e. text), this column is a number etc.) What is object? For our purposes it's the same as string.\n",
    "\n",
    "Datatype is really important. If you have a column of numbers, but someone has accidentally left a word in one row, the whole column will be treated as strings so you won't be able to perform maths operations on them.\n",
    "\n",
    "**Syntax:** dataframe.dtypes"
   ]
  },
  {
   "cell_type": "code",
   "execution_count": 5,
   "metadata": {
    "collapsed": false
   },
   "outputs": [
    {
     "data": {
      "text/plain": [
       "Keyword                            object\n",
       "Market                             object\n",
       "Location                          float64\n",
       "Device                             object\n",
       "Regional Monthly Search Volume    float64\n",
       "Rank                                int64\n",
       "Result Types for Jan  1, 2017      object\n",
       "Protocol for Jan  1, 2017          object\n",
       "Ranking URL on Jan  1, 2017        object\n",
       "Result Types for Sep  1, 2017      object\n",
       "Protocol for Sep  1, 2017          object\n",
       "Ranking URL on Sep  1, 2017        object\n",
       "Tags                               object\n",
       "dtype: object"
      ]
     },
     "execution_count": 5,
     "metadata": {},
     "output_type": "execute_result"
    }
   ],
   "source": [
    "df.dtypes"
   ]
  },
  {
   "cell_type": "markdown",
   "metadata": {},
   "source": [
    "We can also analyze just the top of a certain column:\n"
   ]
  },
  {
   "cell_type": "code",
   "execution_count": 6,
   "metadata": {
    "collapsed": false
   },
   "outputs": [
    {
     "data": {
      "text/plain": [
       "0    GB-en\n",
       "Name: Market, dtype: object"
      ]
     },
     "execution_count": 6,
     "metadata": {},
     "output_type": "execute_result"
    }
   ],
   "source": [
    "df['Market'].head(1)"
   ]
  },
  {
   "cell_type": "markdown",
   "metadata": {},
   "source": [
    "Another useful function is value_counts(). This shows you all the different values in a column, along with a count of how many there are of each."
   ]
  },
  {
   "cell_type": "code",
   "execution_count": 7,
   "metadata": {
    "collapsed": false
   },
   "outputs": [
    {
     "data": {
      "text/plain": [
       "GB-en    39540\n",
       "DE-de       60\n",
       "Name: Market, dtype: int64"
      ]
     },
     "execution_count": 7,
     "metadata": {},
     "output_type": "execute_result"
    }
   ],
   "source": [
    "df['Market'].value_counts()"
   ]
  },
  {
   "cell_type": "markdown",
   "metadata": {},
   "source": [
    "# Filtering data\n",
    "\n",
    "What we have done so far is great for letting us know how to print data and how to inspect loaded data, but now we need to manipulate the data! \n",
    "\n",
    "The first step in that direction is filtering. A common use case is to filter data based on values ​​in a column."
   ]
  },
  {
   "cell_type": "code",
   "execution_count": 13,
   "metadata": {
    "collapsed": false
   },
   "outputs": [
    {
     "data": {
      "text/html": [
       "<div>\n",
       "<style scoped>\n",
       "    .dataframe tbody tr th:only-of-type {\n",
       "        vertical-align: middle;\n",
       "    }\n",
       "\n",
       "    .dataframe tbody tr th {\n",
       "        vertical-align: top;\n",
       "    }\n",
       "\n",
       "    .dataframe thead th {\n",
       "        text-align: right;\n",
       "    }\n",
       "</style>\n",
       "<table border=\"1\" class=\"dataframe\">\n",
       "  <thead>\n",
       "    <tr style=\"text-align: right;\">\n",
       "      <th></th>\n",
       "      <th>Keyword</th>\n",
       "      <th>Market</th>\n",
       "      <th>Location</th>\n",
       "      <th>Device</th>\n",
       "      <th>Regional Monthly Search Volume</th>\n",
       "      <th>Rank</th>\n",
       "      <th>Result Types for Jan  1, 2017</th>\n",
       "      <th>Protocol for Jan  1, 2017</th>\n",
       "      <th>Ranking URL on Jan  1, 2017</th>\n",
       "      <th>Result Types for Sep  1, 2017</th>\n",
       "      <th>Protocol for Sep  1, 2017</th>\n",
       "      <th>Ranking URL on Sep  1, 2017</th>\n",
       "      <th>Tags</th>\n",
       "    </tr>\n",
       "  </thead>\n",
       "  <tbody>\n",
       "    <tr>\n",
       "      <th>180</th>\n",
       "      <td>1 series bmw</td>\n",
       "      <td>GB-en</td>\n",
       "      <td>NaN</td>\n",
       "      <td>desktop</td>\n",
       "      <td>3600.0</td>\n",
       "      <td>1</td>\n",
       "      <td>organic</td>\n",
       "      <td>http</td>\n",
       "      <td>www.bmw.co.uk/en_GB/new-vehicles/1.html</td>\n",
       "      <td>organic</td>\n",
       "      <td>http</td>\n",
       "      <td>www.bmw.co.uk/en_GB/new-vehicles/1.html</td>\n",
       "      <td>temp - semrush / used-cars</td>\n",
       "    </tr>\n",
       "    <tr>\n",
       "      <th>181</th>\n",
       "      <td>1 series bmw</td>\n",
       "      <td>GB-en</td>\n",
       "      <td>NaN</td>\n",
       "      <td>desktop</td>\n",
       "      <td>3600.0</td>\n",
       "      <td>2</td>\n",
       "      <td>organic</td>\n",
       "      <td>http</td>\n",
       "      <td>www.autotrader.co.uk/used-cars/bmw/1-series</td>\n",
       "      <td>organic</td>\n",
       "      <td>https</td>\n",
       "      <td>www.autotrader.co.uk/used-cars/bmw/1-series</td>\n",
       "      <td>temp - semrush / used-cars</td>\n",
       "    </tr>\n",
       "    <tr>\n",
       "      <th>182</th>\n",
       "      <td>1 series bmw</td>\n",
       "      <td>GB-en</td>\n",
       "      <td>NaN</td>\n",
       "      <td>desktop</td>\n",
       "      <td>3600.0</td>\n",
       "      <td>3</td>\n",
       "      <td>organic</td>\n",
       "      <td>http</td>\n",
       "      <td>www.whatcar.com/bmw/1-series/hatchback/review/</td>\n",
       "      <td>organic</td>\n",
       "      <td>https</td>\n",
       "      <td>www.gumtree.com/cars/uk/bmw+1+series</td>\n",
       "      <td>temp - semrush / used-cars</td>\n",
       "    </tr>\n",
       "    <tr>\n",
       "      <th>183</th>\n",
       "      <td>1 series bmw</td>\n",
       "      <td>GB-en</td>\n",
       "      <td>NaN</td>\n",
       "      <td>desktop</td>\n",
       "      <td>3600.0</td>\n",
       "      <td>4</td>\n",
       "      <td>organic</td>\n",
       "      <td>https</td>\n",
       "      <td>en.wikipedia.org/wiki/BMW_1_Series</td>\n",
       "      <td>organic</td>\n",
       "      <td>https</td>\n",
       "      <td>www.whatcar.com/bmw/1-series/hatchback/review/</td>\n",
       "      <td>temp - semrush / used-cars</td>\n",
       "    </tr>\n",
       "    <tr>\n",
       "      <th>184</th>\n",
       "      <td>1 series bmw</td>\n",
       "      <td>GB-en</td>\n",
       "      <td>NaN</td>\n",
       "      <td>desktop</td>\n",
       "      <td>3600.0</td>\n",
       "      <td>5</td>\n",
       "      <td>organic</td>\n",
       "      <td>https</td>\n",
       "      <td>www.gumtree.com/cars/uk/bmw/bmw+1+series</td>\n",
       "      <td>organic</td>\n",
       "      <td>https</td>\n",
       "      <td>en.wikipedia.org/wiki/BMW_1_Series</td>\n",
       "      <td>temp - semrush / used-cars</td>\n",
       "    </tr>\n",
       "  </tbody>\n",
       "</table>\n",
       "</div>"
      ],
      "text/plain": [
       "          Keyword Market  Location   Device  Regional Monthly Search Volume  \\\n",
       "180  1 series bmw  GB-en       NaN  desktop                          3600.0   \n",
       "181  1 series bmw  GB-en       NaN  desktop                          3600.0   \n",
       "182  1 series bmw  GB-en       NaN  desktop                          3600.0   \n",
       "183  1 series bmw  GB-en       NaN  desktop                          3600.0   \n",
       "184  1 series bmw  GB-en       NaN  desktop                          3600.0   \n",
       "\n",
       "     Rank Result Types for Jan  1, 2017 Protocol for Jan  1, 2017  \\\n",
       "180     1                       organic                      http   \n",
       "181     2                       organic                      http   \n",
       "182     3                       organic                      http   \n",
       "183     4                       organic                     https   \n",
       "184     5                       organic                     https   \n",
       "\n",
       "                        Ranking URL on Jan  1, 2017  \\\n",
       "180         www.bmw.co.uk/en_GB/new-vehicles/1.html   \n",
       "181     www.autotrader.co.uk/used-cars/bmw/1-series   \n",
       "182  www.whatcar.com/bmw/1-series/hatchback/review/   \n",
       "183              en.wikipedia.org/wiki/BMW_1_Series   \n",
       "184        www.gumtree.com/cars/uk/bmw/bmw+1+series   \n",
       "\n",
       "    Result Types for Sep  1, 2017 Protocol for Sep  1, 2017  \\\n",
       "180                       organic                      http   \n",
       "181                       organic                     https   \n",
       "182                       organic                     https   \n",
       "183                       organic                     https   \n",
       "184                       organic                     https   \n",
       "\n",
       "                        Ranking URL on Sep  1, 2017  \\\n",
       "180         www.bmw.co.uk/en_GB/new-vehicles/1.html   \n",
       "181     www.autotrader.co.uk/used-cars/bmw/1-series   \n",
       "182            www.gumtree.com/cars/uk/bmw+1+series   \n",
       "183  www.whatcar.com/bmw/1-series/hatchback/review/   \n",
       "184              en.wikipedia.org/wiki/BMW_1_Series   \n",
       "\n",
       "                           Tags  \n",
       "180  temp - semrush / used-cars  \n",
       "181  temp - semrush / used-cars  \n",
       "182  temp - semrush / used-cars  \n",
       "183  temp - semrush / used-cars  \n",
       "184  temp - semrush / used-cars  "
      ]
     },
     "execution_count": 13,
     "metadata": {},
     "output_type": "execute_result"
    }
   ],
   "source": [
    "df_filtered = df[(df[\"Keyword\"].str.contains(\"bmw|audi\", regex=True)==True)]\n",
    "df_filtered.head(5)"
   ]
  },
  {
   "cell_type": "markdown",
   "metadata": {},
   "source": [
    "**What does this do?:** Filter a dataframe based on a string column. In this case we're filtering based on whether or not a regex matches.\n",
    "\n",
    "We can see the index number on the left changing, because the first row where Keyword contains bmw or audi is 180."
   ]
  },
  {
   "cell_type": "code",
   "execution_count": 14,
   "metadata": {
    "collapsed": true
   },
   "outputs": [],
   "source": [
    "df_filtered = df[df[\"Rank\"]==1]"
   ]
  },
  {
   "cell_type": "markdown",
   "metadata": {},
   "source": [
    "**What does this do?:** Filter a dataframe based on a numeric column. Here we return all the results for rank 1."
   ]
  },
  {
   "cell_type": "code",
   "execution_count": 15,
   "metadata": {
    "collapsed": false
   },
   "outputs": [],
   "source": [
    "df['is_rank_1'] = False\n",
    "df.loc[df['Rank'] == 1, 'is_rank_1'] = True"
   ]
  },
  {
   "cell_type": "markdown",
   "metadata": {},
   "source": [
    "**What does this do?:** Filter a dataframe based on a boolean (i.e. TRUE and FALSE) column. Here we return all the results which are true. We don't have a boolean column yet, so let's quickly create one (we'll go over in more detail later)."
   ]
  },
  {
   "cell_type": "markdown",
   "metadata": {},
   "source": [
    "Then we can filter for any rows where is_rank_1 is equal to True."
   ]
  },
  {
   "cell_type": "code",
   "execution_count": 16,
   "metadata": {
    "collapsed": false
   },
   "outputs": [],
   "source": [
    "df_filtered = df[df['is_rank_1']]"
   ]
  },
  {
   "cell_type": "markdown",
   "metadata": {},
   "source": [
    "If we want to invert this and get any where it doesn't match 1, we do it with `~`"
   ]
  },
  {
   "cell_type": "code",
   "execution_count": 17,
   "metadata": {
    "collapsed": true
   },
   "outputs": [],
   "source": [
    "df_filtered = df[~df['is_rank_1']]"
   ]
  },
  {
   "cell_type": "markdown",
   "metadata": {},
   "source": [
    "We can also filter a dataframe based off a list!"
   ]
  },
  {
   "cell_type": "code",
   "execution_count": 18,
   "metadata": {
    "collapsed": true
   },
   "outputs": [],
   "source": [
    "list_of_values = [\n",
    "    '1 series bmw',\n",
    "    'ford deals'\n",
    "]\n",
    "df_filtered = df[df[\"Keyword\"].isin(list_of_values)]"
   ]
  },
  {
   "cell_type": "markdown",
   "metadata": {},
   "source": [
    "What if we want to use multiple conditions? Again nice and easy, we just put more than one in our first set of square brackets as seen below. `&` is the symbol for and, and `|` is the symbol for or."
   ]
  },
  {
   "cell_type": "code",
   "execution_count": null,
   "metadata": {
    "collapsed": true
   },
   "outputs": [],
   "source": [
    "df_filtered = df[df[\"Market\"].str.contains(\"GB-en\")==False | df[\"Device\"].str.contains(\"desktop\")==True]"
   ]
  },
  {
   "cell_type": "markdown",
   "metadata": {},
   "source": [
    "\n",
    "# Creating new columns based off existing columns"
   ]
  },
  {
   "cell_type": "markdown",
   "metadata": {},
   "source": [
    "Sometimes we don't want to filter our entire set, we just want to create a new column which is correctly filtered. We already saw this above but we skipped over it, so now we'll look at it in more detail. \n",
    "\n",
    "But before we can create new columns based off filters we need to know how to create new columns.\n",
    "\n",
    "The code below will create a new column called industry and set its value to Cars."
   ]
  },
  {
   "cell_type": "code",
   "execution_count": 22,
   "metadata": {
    "collapsed": true
   },
   "outputs": [],
   "source": [
    "df['industry'] = \"Cars\""
   ]
  },
  {
   "cell_type": "markdown",
   "metadata": {},
   "source": [
    "First we'll look at creating a column which is True or False based on a condition. We can use any of the conditions we used in the previous section.\n",
    "\n",
    "The code below sets the column to True and False based on the filter condition. \n",
    "\n",
    "Below we're creating a column which is True wherever rank is 1."
   ]
  },
  {
   "cell_type": "code",
   "execution_count": 23,
   "metadata": {
    "collapsed": false
   },
   "outputs": [],
   "source": [
    "df['is_rank_1'] = df['Rank'] == 1"
   ]
  },
  {
   "cell_type": "markdown",
   "metadata": {},
   "source": [
    "Each condition (if you have more than 1) needs to be wrapped in brackets.\n",
    "\n",
    "Below we're creating a column which is `True` for the all the rows where rank=1 and `False` otherwise."
   ]
  },
  {
   "cell_type": "code",
   "execution_count": 44,
   "metadata": {
    "collapsed": true
   },
   "outputs": [],
   "source": [
    "df['auto_express_with_rank_2'] = (df['Tags'].str.contains(\"auto express\")) & (df['Rank'] < 4)"
   ]
  },
  {
   "cell_type": "markdown",
   "metadata": {},
   "source": [
    "Below we're creating a column based on a calculation from other columns."
   ]
  },
  {
   "cell_type": "code",
   "execution_count": 45,
   "metadata": {
    "collapsed": true
   },
   "outputs": [],
   "source": [
    "df['basic_search_visibility'] = df['Regional Monthly Search Volume']/df['Rank']"
   ]
  },
  {
   "cell_type": "markdown",
   "metadata": {},
   "source": [
    "Another common usecase, creating a column based off a regex extract. Pandas comes with a built in function for us.\n"
   ]
  },
  {
   "cell_type": "code",
   "execution_count": 46,
   "metadata": {
    "collapsed": true
   },
   "outputs": [],
   "source": [
    "df['car_type'] = df['Keyword'].str.extract(\"(bmw|audi|ford)\", re.IGNORECASE, expand=False)"
   ]
  },
  {
   "cell_type": "code",
   "execution_count": 47,
   "metadata": {
    "collapsed": false
   },
   "outputs": [
    {
     "data": {
      "text/plain": [
       "bmw     3660\n",
       "audi    2960\n",
       "ford    1800\n",
       "Name: car_type, dtype: int64"
      ]
     },
     "execution_count": 47,
     "metadata": {},
     "output_type": "execute_result"
    }
   ],
   "source": [
    "df['car_type'].value_counts()"
   ]
  },
  {
   "cell_type": "markdown",
   "metadata": {},
   "source": [
    "## Using custom functions\n",
    "\n",
    "Pandas has a number of functions for creating and manipulating additional columns. It pays to be familiar with the documentation, especially for [string handling](https://pandas.pydata.org/pandas-docs/stable/api.html#string-handling), whatever you do occasionally is complicated, These functions are not enough. A good example is markup.\n",
    "\n",
    "i.e. I want a column where all keywords containing high end cars are labeled \"high end\" and all keywords containing low end cars are labeled \"low end\".\n",
    "\n",
    "First we need to create some labels and a label function."
   ]
  },
  {
   "cell_type": "code",
   "execution_count": 82,
   "metadata": {
    "collapsed": false
   },
   "outputs": [],
   "source": [
    "tags = [\n",
    "    {\n",
    "        \"name\": \"high-end\",\n",
    "        \"regex\": \"bmw|audi\"\n",
    "    },\n",
    "    {\n",
    "        \"name\": \"low-end\",\n",
    "        \"regex\": \"ford\"\n",
    "    }\n",
    "]"
   ]
  },
  {
   "cell_type": "code",
   "execution_count": 91,
   "metadata": {
    "collapsed": false
   },
   "outputs": [],
   "source": [
    "def basic_keyword_tagging(string, tags):\n",
    "    ''' This function takes a string and a tag dataset that is a list of dictionaries.\n",
    "    \n",
    "    Each dictionary must contain a name value and a regex value. It will loop through\n",
    "    the tags and as soon as one matches, return that. If none match it will return \"other\".\n",
    "    '''\n",
    "    \n",
    "    for tag in tags:\n",
    "        if re.match(tag['regex'], row['Keyword']):\n",
    "            return tag['name']\n",
    "        else:\n",
    "            return \"other\""
   ]
  },
  {
   "cell_type": "markdown",
   "metadata": {},
   "source": [
    "**What does the code below do?:** The function below, applies our function to each row in the dataframe and runs the value to our new column."
   ]
  },
  {
   "cell_type": "code",
   "execution_count": 89,
   "metadata": {
    "collapsed": false
   },
   "outputs": [],
   "source": [
    "df['what_is_car_model'] = df.apply(lambda x: basic_tagging(x['Keyword'], tags), axis=1)"
   ]
  },
  {
   "cell_type": "markdown",
   "metadata": {},
   "source": [
    "# Grouping data\n",
    "\n",
    "Now it starts to get interesting. Grouping. Grouping is super useful. Let's suppose we wanted to see the average rank and total keyword count per URL in our sample. That is what we use grouping for."
   ]
  },
  {
   "cell_type": "markdown",
   "metadata": {},
   "source": [
    "The code below is the most flexible version of groupby. There are simpler syntaxes, but if you know this one you'll be able to do basically everything you want with it. In the example below, we're going to get average rank and total keyword count for each for the later date in our sample (1st Sep 2017)."
   ]
  },
  {
   "cell_type": "code",
   "execution_count": 48,
   "metadata": {
    "collapsed": false
   },
   "outputs": [],
   "source": [
    "df_group = df.groupby('Ranking URL on Sep  1, 2017').agg({\n",
    "    'Keyword': 'count',\n",
    "    'Rank': 'mean'\n",
    "}).reset_index()"
   ]
  },
  {
   "cell_type": "markdown",
   "metadata": {},
   "source": [
    "Now we have aggregated by URL, but Want if we wanted to average rank and keyword count, per URL, per country? In that case we provide more values to our initial group by."
   ]
  },
  {
   "cell_type": "code",
   "execution_count": 50,
   "metadata": {
    "collapsed": false
   },
   "outputs": [],
   "source": [
    "df_group = df.groupby(['Ranking URL on Sep  1, 2017', 'Market']).agg({\n",
    "    'Keyword': 'count',\n",
    "    'Rank': 'mean'\n",
    "}).reset_index()"
   ]
  },
  {
   "cell_type": "markdown",
   "metadata": {},
   "source": [
    "# Sorting data\n",
    "\n",
    "The results we had above, would've been a lot more helpful if they were sorted. We want to see the URLs that rank for the most keywords, not just a list of URLs in alphabetical order."
   ]
  },
  {
   "cell_type": "markdown",
   "metadata": {},
   "source": [
    "**What does the code below do?:** Sorts a dataframe by selecting columns, in the case below we're sorting from biggest to smallest."
   ]
  },
  {
   "cell_type": "code",
   "execution_count": null,
   "metadata": {
    "collapsed": false
   },
   "outputs": [],
   "source": [
    "df_group.sort_values(['Keyword'], ascending=False)"
   ]
  },
  {
   "cell_type": "markdown",
   "metadata": {},
   "source": [
    "# Joining together multiple datasets"
   ]
  },
  {
   "cell_type": "markdown",
   "metadata": {},
   "source": [
    "There are two possible ways we can join two datasets togethere:\n",
    "1. Joining together two CSVs with the same columns, because our data is split across multiple files\n",
    "2. Joining together a new dataset with our dataset based on matching values (this will not be covered)\n",
    "\n",
    "## 1. Joining together CSV's with the same columns.\n",
    "\n",
    "For this we've created a fake second dataset that we're going to load and join on the bottom of ours."
   ]
  },
  {
   "cell_type": "code",
   "execution_count": 53,
   "metadata": {
    "collapsed": true
   },
   "outputs": [],
   "source": [
    "df2 = pd.read_csv(\"Example Car SERPs - Small Second Set.csv\")"
   ]
  },
  {
   "cell_type": "markdown",
   "metadata": {},
   "source": [
    "First we prepare our data by putting all of our dataframes into a list (which is what the square brackets [] are doing)."
   ]
  },
  {
   "cell_type": "code",
   "execution_count": 54,
   "metadata": {
    "collapsed": true
   },
   "outputs": [],
   "source": [
    "list_of_df = [df, df2]"
   ]
  },
  {
   "cell_type": "markdown",
   "metadata": {},
   "source": [
    "Next we use a function takes a list of dataframes and stacks them one on top of the other."
   ]
  },
  {
   "cell_type": "code",
   "execution_count": 55,
   "metadata": {
    "collapsed": true
   },
   "outputs": [],
   "source": [
    "both_dfs = pd.concat(list_of_df)"
   ]
  },
  {
   "cell_type": "markdown",
   "metadata": {},
   "source": [
    "# Final Points:\n",
    "\n",
    "There is still alot more to learn about Pandas in general and a lot more you can do.\n",
    "To find out more try using these resources:\n",
    "\n",
    "- https://www.kaggle.com/learn/pandas\n",
    "- https://www.kaggle.com/learn/data-cleaning\n",
    "- https://github.com/tirthajyoti/Machine-Learning-with-Python/tree/master/Pandas%20and%20Numpy\n",
    "\n",
    "And feel free to use this pandas cheet sheat to find more functions:\n",
    "https://pandas.pydata.org/Pandas_Cheat_Sheet.pdf"
   ]
  }
 ],
 "metadata": {
  "kernelspec": {
   "display_name": "Python 3.10.4 ('AIM')",
   "language": "python",
   "name": "python3"
  },
  "language_info": {
   "codemirror_mode": {
    "name": "ipython",
    "version": 3
   },
   "file_extension": ".py",
   "mimetype": "text/x-python",
   "name": "python",
   "nbconvert_exporter": "python",
   "pygments_lexer": "ipython3",
   "version": "3.10.4"
  },
  "vscode": {
   "interpreter": {
    "hash": "d7b3445232db23df1db05570b5aa76c5a1df9176bcc31fe896a7b066530d17a3"
   }
  }
 },
 "nbformat": 4,
 "nbformat_minor": 2
}
